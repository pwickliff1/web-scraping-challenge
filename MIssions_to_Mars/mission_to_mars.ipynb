{
 "cells": [
  {
   "cell_type": "code",
   "execution_count": 1,
   "metadata": {},
   "outputs": [],
   "source": [
    "# Dependencies\n",
    "from bs4 import BeautifulSoup\n",
    "import requests\n",
    "import re\n",
    "import pandas as pd\n"
   ]
  },
  {
   "cell_type": "code",
   "execution_count": 2,
   "metadata": {
    "scrolled": false
   },
   "outputs": [],
   "source": [
    "# Url of website to be scraped\n",
    "url = 'https://mars.nasa.gov/news/'\n",
    "response = requests.get(url)\n",
    "soup =  BeautifulSoup(response.text, 'html.parser')\n",
    "\n",
    "# get the latest news title\n",
    "news_title = soup.find('div', class_=\"content_title\").text.strip()\n",
    "\n",
    "# Get latest news paragraph text\n",
    "news_p = soup.find('div', class_=\"rollover_description\").text.strip()\n"
   ]
  },
  {
   "cell_type": "code",
   "execution_count": 3,
   "metadata": {},
   "outputs": [],
   "source": [
    "# Url of JPL Featured Space Image to scrape\n",
    "url = 'https://www.jpl.nasa.gov'\n",
    "query = '/spaceimages/?search=&category=Mars'\n",
    "response = requests.get(url+query)\n",
    "soup =  BeautifulSoup(response.text, 'html.parser')\n",
    "\n",
    "# Get image url\n",
    "image = soup.find('div', class_=\"carousel_items\")\n",
    "featured_image_url = url+image.a['data-fancybox-href']\n"
   ]
  },
  {
   "cell_type": "code",
   "execution_count": 4,
   "metadata": {},
   "outputs": [],
   "source": [
    "# Trick Twitter to bypass Javascript check to get Mars Weather\n",
    "user_agent_old_phone = 'Nokia5310XpressMusic_CMCC/2.0 (10.10) Profile/MIDP-2.1 '\\\n",
    "'Configuration/CLDC-1.1 UCWEB/2.0 (Java; U; MIDP-2.0; en-US; '\\\n",
    "'Nokia5310XpressMusic) U2/1.0.0 UCBrowser/9.5.0.449 U2/1.0.0 Mobile'\n",
    "\n",
    "headers = { 'User-Agent': user_agent_old_phone}\n",
    "\n",
    "# Scrape twitter for Mars Weather\n",
    "url_twitter = 'https://twitter.com/marswxreport?lang=en'\n",
    "resp = requests.get(url_twitter, headers=headers)  # Send request\n",
    "\n",
    "code = resp.status_code  # HTTP response code\n",
    "if code == 200:\n",
    "    soup = BeautifulSoup(resp.text, 'lxml')  # Parsing the HTML\n",
    "    #print(soup.prettify())\n",
    "else:\n",
    "    print(f'Error to load Twitter: {code}')\n",
    "  \n",
    "    \n",
    "# Get Mars weather\n",
    "mars_weather = soup.find(text=re.compile(\"InSight\"));\n"
   ]
  },
  {
   "cell_type": "code",
   "execution_count": 5,
   "metadata": {},
   "outputs": [],
   "source": [
    "# Get Mars facts data from webpage\n",
    "url = 'https://space-facts.com/mars/'\n",
    "response = requests.get(url)\n",
    "soup =  BeautifulSoup(response.text, 'html.parser')\n",
    "\n",
    "# Get table data \n",
    "#table = soup.find_all('tr')\n",
    "table = soup.find(id=\"tablepress-p-mars-no-2\")\n"
   ]
  },
  {
   "cell_type": "code",
   "execution_count": 25,
   "metadata": {},
   "outputs": [],
   "source": [
    "# Get Mars facts data from webpage and convert to html table string\n",
    "url = 'https://space-facts.com/mars/'\n",
    "\n",
    "# Scrape using pandas\n",
    "tables = pd.read_html(url)\n",
    "mars_facts = tables[2]\n",
    "\n",
    "mars_facts.columns = ['Description', 'Value']\n",
    "mars_facts.set_index('Description', inplace=True)\n",
    "\n",
    "# Convert to html string\n",
    "mars_facts_html = mars_facts.to_html()\n"
   ]
  },
  {
   "cell_type": "code",
   "execution_count": 34,
   "metadata": {},
   "outputs": [],
   "source": [
    "# Url for main page \n",
    "url_main ='https://astrogeology.usgs.gov/search/results?q=hemisphere+enhanced&k1=target&v1=Mars'\n",
    "\n",
    "# Python dictionary with urls for pictures of each of Mars' Hemispheres\n",
    "hemisphere_image_urls = [\n",
    "    {\"title\": \"Cerberus_Hemisphere\", \"img_url\": \"https://astropedia.astrogeology.usgs.gov/download/Mars/Viking/cerberus_enhanced.tif/full.jpg\"},\n",
    "    {\"title\": \"Schiaparelli_Hemisphere\", \"img_url\": \"https://astropedia.astrogeology.usgs.gov/download/Mars/Viking/schiaparelli_enhanced.tif/full.jpg\"},\n",
    "    {\"title\": \"Syrtis_Major_Hemisphere\", \"img_url\": \"https://astropedia.astrogeology.usgs.gov/download/Mars/Viking/syrtis_major_enhanced.tif/full.jpg\"},\n",
    "    {\"title\": \"Valles_Marineris_Hemisphere\", \"img_url\": \"https://astropedia.astrogeology.usgs.gov/download/Mars/Viking/valles_marineris_enhanced.tif/full.jpg\"}\n",
    "]\n"
   ]
  },
  {
   "cell_type": "code",
   "execution_count": null,
   "metadata": {},
   "outputs": [],
   "source": []
  }
 ],
 "metadata": {
  "kernelspec": {
   "display_name": "Python 3",
   "language": "python",
   "name": "python3"
  },
  "language_info": {
   "codemirror_mode": {
    "name": "ipython",
    "version": 3
   },
   "file_extension": ".py",
   "mimetype": "text/x-python",
   "name": "python",
   "nbconvert_exporter": "python",
   "pygments_lexer": "ipython3",
   "version": "3.7.6"
  }
 },
 "nbformat": 4,
 "nbformat_minor": 4
}
